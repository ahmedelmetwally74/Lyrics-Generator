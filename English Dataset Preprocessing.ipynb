{
 "cells": [
  {
   "cell_type": "code",
   "execution_count": 1,
   "id": "a4aea726",
   "metadata": {
    "execution": {
     "iopub.execute_input": "2024-08-06T21:29:10.778080Z",
     "iopub.status.busy": "2024-08-06T21:29:10.777802Z",
     "iopub.status.idle": "2024-08-06T21:29:24.770491Z",
     "shell.execute_reply": "2024-08-06T21:29:24.769166Z"
    },
    "papermill": {
     "duration": 14.002149,
     "end_time": "2024-08-06T21:29:24.773228",
     "exception": false,
     "start_time": "2024-08-06T21:29:10.771079",
     "status": "completed"
    },
    "tags": []
   },
   "outputs": [
    {
     "name": "stdout",
     "output_type": "stream",
     "text": [
      "Collecting pyspellchecker\r\n",
      "  Downloading pyspellchecker-0.8.1-py3-none-any.whl.metadata (9.4 kB)\r\n",
      "Downloading pyspellchecker-0.8.1-py3-none-any.whl (6.8 MB)\r\n",
      "\u001b[2K   \u001b[90m━━━━━━━━━━━━━━━━━━━━━━━━━━━━━━━━━━━━━━━━\u001b[0m \u001b[32m6.8/6.8 MB\u001b[0m \u001b[31m24.2 MB/s\u001b[0m eta \u001b[36m0:00:00\u001b[0m\r\n",
      "\u001b[?25hInstalling collected packages: pyspellchecker\r\n",
      "Successfully installed pyspellchecker-0.8.1\r\n",
      "Note: you may need to restart the kernel to use updated packages.\n"
     ]
    }
   ],
   "source": [
    "pip install pyspellchecker"
   ]
  },
  {
   "cell_type": "code",
   "execution_count": 2,
   "id": "7f326e80",
   "metadata": {
    "execution": {
     "iopub.execute_input": "2024-08-06T21:29:24.791758Z",
     "iopub.status.busy": "2024-08-06T21:29:24.791013Z",
     "iopub.status.idle": "2024-08-06T21:29:27.120246Z",
     "shell.execute_reply": "2024-08-06T21:29:27.119287Z"
    },
    "papermill": {
     "duration": 2.342027,
     "end_time": "2024-08-06T21:29:27.122601",
     "exception": false,
     "start_time": "2024-08-06T21:29:24.780574",
     "status": "completed"
    },
    "tags": []
   },
   "outputs": [],
   "source": [
    "import pandas as pd\n",
    "import numpy as np\n",
    "import re\n",
    "from nltk.tokenize import word_tokenize\n",
    "from nltk.corpus import stopwords\n",
    "from spellchecker import SpellChecker\n",
    "import gc\n",
    "import os\n",
    "import logging"
   ]
  },
  {
   "cell_type": "code",
   "execution_count": 3,
   "id": "9dffa5b0",
   "metadata": {
    "execution": {
     "iopub.execute_input": "2024-08-06T21:29:27.137771Z",
     "iopub.status.busy": "2024-08-06T21:29:27.136905Z",
     "iopub.status.idle": "2024-08-06T21:29:27.141513Z",
     "shell.execute_reply": "2024-08-06T21:29:27.140735Z"
    },
    "papermill": {
     "duration": 0.013932,
     "end_time": "2024-08-06T21:29:27.143274",
     "exception": false,
     "start_time": "2024-08-06T21:29:27.129342",
     "status": "completed"
    },
    "tags": []
   },
   "outputs": [],
   "source": [
    "pd.set_option(\"display.max_rows\", None)\n",
    "pd.set_option(\"display.max_columns\", None)\n",
    "pd.set_option('display.max_colwidth', None)"
   ]
  },
  {
   "cell_type": "code",
   "execution_count": 4,
   "id": "21523ec4",
   "metadata": {
    "execution": {
     "iopub.execute_input": "2024-08-06T21:29:27.157017Z",
     "iopub.status.busy": "2024-08-06T21:29:27.156749Z",
     "iopub.status.idle": "2024-08-06T21:29:27.321545Z",
     "shell.execute_reply": "2024-08-06T21:29:27.320686Z"
    },
    "papermill": {
     "duration": 0.17386,
     "end_time": "2024-08-06T21:29:27.323529",
     "exception": false,
     "start_time": "2024-08-06T21:29:27.149669",
     "status": "completed"
    },
    "tags": []
   },
   "outputs": [
    {
     "name": "stdout",
     "output_type": "stream",
     "text": [
      "[nltk_data] Downloading package punkt to /usr/share/nltk_data...\n",
      "[nltk_data]   Package punkt is already up-to-date!\n",
      "[nltk_data] Downloading package stopwords to /usr/share/nltk_data...\n",
      "[nltk_data]   Package stopwords is already up-to-date!\n"
     ]
    },
    {
     "data": {
      "text/plain": [
       "True"
      ]
     },
     "execution_count": 4,
     "metadata": {},
     "output_type": "execute_result"
    }
   ],
   "source": [
    "# Ensure that NLTK resources are downloaded\n",
    "import nltk\n",
    "nltk.download('punkt')\n",
    "nltk.download('stopwords')"
   ]
  },
  {
   "cell_type": "code",
   "execution_count": 5,
   "id": "e2461f47",
   "metadata": {
    "execution": {
     "iopub.execute_input": "2024-08-06T21:29:27.337629Z",
     "iopub.status.busy": "2024-08-06T21:29:27.337366Z",
     "iopub.status.idle": "2024-08-06T21:29:27.501107Z",
     "shell.execute_reply": "2024-08-06T21:29:27.500112Z"
    },
    "papermill": {
     "duration": 0.173428,
     "end_time": "2024-08-06T21:29:27.503505",
     "exception": false,
     "start_time": "2024-08-06T21:29:27.330077",
     "status": "completed"
    },
    "tags": []
   },
   "outputs": [],
   "source": [
    "# Setting up stopwords and the spellchecker\n",
    "stop_words = stopwords.words('english')\n",
    "spell = SpellChecker()"
   ]
  },
  {
   "cell_type": "code",
   "execution_count": 6,
   "id": "7c126f0b",
   "metadata": {
    "execution": {
     "iopub.execute_input": "2024-08-06T21:29:27.518604Z",
     "iopub.status.busy": "2024-08-06T21:29:27.517918Z",
     "iopub.status.idle": "2024-08-06T21:31:28.686109Z",
     "shell.execute_reply": "2024-08-06T21:31:28.685249Z"
    },
    "papermill": {
     "duration": 121.178114,
     "end_time": "2024-08-06T21:31:28.688603",
     "exception": false,
     "start_time": "2024-08-06T21:29:27.510489",
     "status": "completed"
    },
    "tags": []
   },
   "outputs": [],
   "source": [
    "df = pd.read_csv('/kaggle/input/song-generator/english_lyrics_df.csv')"
   ]
  },
  {
   "cell_type": "code",
   "execution_count": 7,
   "id": "8bbd7920",
   "metadata": {
    "execution": {
     "iopub.execute_input": "2024-08-06T21:31:28.703515Z",
     "iopub.status.busy": "2024-08-06T21:31:28.703222Z",
     "iopub.status.idle": "2024-08-06T21:31:28.708879Z",
     "shell.execute_reply": "2024-08-06T21:31:28.707969Z"
    },
    "papermill": {
     "duration": 0.015003,
     "end_time": "2024-08-06T21:31:28.710790",
     "exception": false,
     "start_time": "2024-08-06T21:31:28.695787",
     "status": "completed"
    },
    "tags": []
   },
   "outputs": [
    {
     "data": {
      "text/plain": [
       "(3374943, 3)"
      ]
     },
     "execution_count": 7,
     "metadata": {},
     "output_type": "execute_result"
    }
   ],
   "source": [
    "df.shape"
   ]
  },
  {
   "cell_type": "code",
   "execution_count": 8,
   "id": "06183f85",
   "metadata": {
    "execution": {
     "iopub.execute_input": "2024-08-06T21:31:28.724898Z",
     "iopub.status.busy": "2024-08-06T21:31:28.724644Z",
     "iopub.status.idle": "2024-08-06T21:31:28.742779Z",
     "shell.execute_reply": "2024-08-06T21:31:28.741945Z"
    },
    "papermill": {
     "duration": 0.028151,
     "end_time": "2024-08-06T21:31:28.745665",
     "exception": false,
     "start_time": "2024-08-06T21:31:28.717514",
     "status": "completed"
    },
    "tags": []
   },
   "outputs": [
    {
     "data": {
      "text/html": [
       "<div>\n",
       "<style scoped>\n",
       "    .dataframe tbody tr th:only-of-type {\n",
       "        vertical-align: middle;\n",
       "    }\n",
       "\n",
       "    .dataframe tbody tr th {\n",
       "        vertical-align: top;\n",
       "    }\n",
       "\n",
       "    .dataframe thead th {\n",
       "        text-align: right;\n",
       "    }\n",
       "</style>\n",
       "<table border=\"1\" class=\"dataframe\">\n",
       "  <thead>\n",
       "    <tr style=\"text-align: right;\">\n",
       "      <th></th>\n",
       "      <th>artist</th>\n",
       "      <th>title</th>\n",
       "      <th>lyrics</th>\n",
       "    </tr>\n",
       "  </thead>\n",
       "  <tbody>\n",
       "    <tr>\n",
       "      <th>0</th>\n",
       "      <td>Cam'ron</td>\n",
       "      <td>Killa Cam</td>\n",
       "      <td>[Chorus: Opera Steve &amp; Cam'ron]\\nKilla Cam, Killa Cam, Cam\\nKilla Cam, Killa Cam\\nKilla Cam, Cam\\nKilla Cam, Killa Cam, Cam\\nKilla Killa Killa Cam\\nKilla Cam, Cam, Killa (Killa!)\\nKilla Cam, Killa Cam, Cam (Bases loaded)\\nKilla Cam, Killa Cam (Uh-huh)\\nKilla Cam, Cam (Santana on second, Jim on third)\\nKilla Cam, Killa Cam, Cam (I'm at bat)\\nKilla Killa Killa Cam\\nKilla Cam, Cam, Killa (I'm 'bout to hit this shit out the world)\\nKilla Cam (Ugh, Heatmakerz), Killa Cam, Cam\\nKilla Cam, Killa Cam\\nKilla Cam, Cam (Hahahaha)\\nKilla Cam, Killa Cam, Cam\\nKilla Killa Killa Cam\\nKilla Cam, Cam, Killa (We  make this shit clap)\\nKilla Cam, Killa Cam, Cam\\nKilla Cam, Killa Cam\\nKilla Cam, Cam\\nKilla Cam, Killa Cam, Cam\\nKilla Killa Killa Cam (Killa! Killa!)\\nKilla Cam, Cam, Killa\\n[Verse 1]\\nWith the goons I spar, stay in tune with ma (What up?)\\nShe like, \"Damn, this the realest since 'Kumbaya'\"\\nBomaye, Killa Cam, my Lord (My Lord)\\nStill the man with the pan, scrilla, fam, on board\\nNow bitches, they want to neuter me, niggas, they want to tutor me\\nThe hooligan in Houlihan's, maneuvering's nothing new to me\\nDoggy, I'm from the land of grind, pan-pan: gram or dime?\\nNot toes or MC when I say \"hammer time\"\\nBeef: I hammer mine, when I get my hands on nines\\nIf I had on 'Bama line, Corduroys, Cam'll shine\\nCanary burgundy: I call it \"Lemon Red\" (Red)\\nYellow diamonds in my ear, call 'em \"Lemonheads\"\\nLemonhead, end up dead, ice like Winnipeg\\nGemstone, Flintstones, you could say I'm friends with Fred\\nYou unhappy, scrappy? (What's going on, Scrappy?)\\nI got Pataki at me\\nBitches say I'm \"Tacky Daddy,\" Range look like Laffy Taffy\\n\\n[Chorus]\\nKilla Cam\\nKilla Cam Cam (sing)\\nKilla Cam Killa Cam\\nKilla Cam Cam (uhh, it's me, clap)\\nKilla Cam\\nKilla Cam Cam\\nKilla Killa Killa Cam (sing)\\nKilla Cam Cam Killa (uhh, it's me, clap)\\nKilla Cam\\nKilla Cam Cam (sing)\\nKilla Cam Killa Cam\\nKilla Cam Cam (clap, it's me)\\nKilla Cam\\nKilla Cam Cam\\nKilla Killa Killa Cam (clap)\\n(Harlem, I know y'all know about this)\\nKilla Cam Cam Killa (Killa!)\\n[Verse 2]\\nYo, I'm from where Nicky Barnes got rich as fuck\\nRich and A hit the kitchens then were pitchin' up\\nRob Base, Mase, Doug E Fresh switched it up\\nI do both, who am I to fuck tradition up? (Killa!)\\nSo I parked in a tow-away zone\\nChrome...I don't care\\nThat car a throwaway, homes (Killa!)\\nWelcome to Harlem, where you welcome to problems\\nOff of furlough, fellow felons get pardons\\nThem niggas knew we bang\\nStood out like Pootie Tang\\nSoon as the stoolie sings\\nThat when the toolie sing!\\nBang! Bang!\\nCame from that movie ring\\nSnap, crack jewelry bling\\nFlapjack, ooh he bring\\nClack-clack, \"ooh he ring!\"\\nBad rap, cuties cling\\nAss cap, put them in the river\\nI'm the sushi king\\nAnd I'ma keep ya fresh\\nLet the fish eat ya flesh\\nYes sir, please confess\\nJust say he's the best (Killa!)\\n[Chorus]\\nKilla Cam (sing)\\nKilla Cam Cam (clap)\\nKilla Cam Killa Cam (yes)\\nKilla Cam Cam (it's me, sing)\\nKilla Cam\\nKilla Cam Cam (sing)\\nKilla Killa Killa Cam\\nKilla Cam Cam Killa  (clap, yes sir, uhh)\\nKilla Cam\\nKilla Cam Cam (sing, clap)\\nKilla Cam Killa Cam\\nKilla Cam Cam (it's me)\\nKilla Cam (sing, clap)\\nKilla Cam Cam\\nKilla Killa Killa Cam\\n(Let me end this shit, listen)\\nKilla Cam Cam Killa\\n\\n[Verse 3]\\n(Killa!) Yo\\nHow dope is this?\\nTeach you how to rope a chick\\nWhat you want: coke or piff?\\nGot it all, smoke or sniff? (everything)\\nAnd you know my drift\\nUsed to figures, dough and shit (millions)\\nYou a rooster nigga, just a roaster, bitch\\nAnd I roast ya bitch\\nThat's how it usually ends\\nTell her and her groupie friends\\nGo get their coochie cleansed\\nWe the moody Gucci, Louis and Pucci men\\nEscada, Prada\\nThe chopper it got the Uzi lens\\nBird's-eye view\\nThe birds I knew flip birds\\nBird gangs, it was birds I flew\\nAnd word I blew off herb I grew\\nI would serve on stoops\\nNow swerve in coupes\\nIt's me, sing! Killa, uhh\\n\\n[Chorus]\\nKilla Cam\\nKilla Cam Cam\\nKilla Cam Killa Cam\\nKilla Cam Cam\\nKilla Cam\\nKilla Cam Cam\\nKilla Killa Killa Cam\\nKilla Cam Cam Killa\\nKilla Cam\\nKilla Cam Cam\\nKilla Cam Killa Cam\\nKilla Cam Cam\\nKilla Cam\\nKilla Cam Cam\\nKilla Killa Killa Cam\\nKilla Cam Cam Killa</td>\n",
       "    </tr>\n",
       "    <tr>\n",
       "      <th>1</th>\n",
       "      <td>JAY-Z</td>\n",
       "      <td>Can I Live</td>\n",
       "      <td>[Produced by Irv Gotti]\\n\\n[Intro]\\nYeah, hah, yeah, Roc-A-Fella\\nWe invite you to somethin' epic, you know?\\nWell, we hustle out of a sense of hopelessness\\nSort of a desperation\\nThrough that desperation, we become addicted\\nSort of like the fiends we accustomed to servin'\\nBut we feel we have nothin' to lose\\nSo, we offer you, well, we offer our lives, right?\\nWhat do you bring to the table?\\n\\n[Verse 1]\\nWhile I'm watchin' every nigga watchin' me closely\\nMy shit is butter for the bread, they wanna toast me\\nI keep my head, both of them, where they supposed to be\\nHoes'll get you sidetracked, then clapped from close feet\\nI don't sleep, I'm tired, I feel wired like codeine, these days\\nA brother gotta admire me from four fiends away\\nMy pain, wish it was quick to see\\nFrom sellin' 'caine 'til brains was fried to a fricassee\\nCan't lie, at the time it never bothered me\\nAt the bar, gettin' my thug on properly\\nMy squad and me lack of respect for authority\\nLaughin' hard, happy to be escapin' poverty, however brief\\nI know this game got valleys and peaks\\nExpectation for dips, for precipitation we stack chips, hardly\\nThe youth I used to be, soon to see a mill'in\\nNo more Big Willie, my game has grown\\nPrefer you call me William\\nIllin' for revenues, Rayful Edmond-like\\nChannel 7 News, round seven jewels, head dead in the mic\\nForgettin' all I ever knew, convenient amnesia\\n\"I suggest you call my lawyer, I know the procedure.\"\\nLock my body, can't trap my mind\\nEasily explain why we adapt to crime\\nI'd rather die enormous than live dormant, that's how we on it\\nLive at the main event, I bet a trip to Maui on it\\nPresidential suites my residential for the weekend\\nConfidentially speakin' in codes since I sense you peekin'\\nThe NSX rental, don't be fooled, my game is mental\\nWe both out of town, dog, what you tryin' to get into?\\nViva Las Vegas, see ya later at the crap tables\\nMeet me by the one that starts a G up\\nThis way no Fraud Willies present gamblin' they re-up\\nAnd we can have a pleasant time, sippin' margaritas\\n[Chorus]\\nGe-ge-geyeahhh\\nCan I live?\\nCan I live?\\n\\n[Verse 2]\\nMy mind is infested with sick thoughts that circle\\nLike a Lexus, if driven wrong it's sure to hurt you\\nDual level like duplexes, in unity\\nMy crew and me commit atrocities like we got immunity\\nYou guessed it, manifest it\\nIn tangible goods, platinum Rolex'd it\\nWe don't lease, we buy the whole car, as you should\\nMy confederation, dead a nation\\nExplode on detonation, overload the mind of a said patient\\nWhen it boils to steam, it comes to it\\nWe all fiends, gotta do it: even righteous minds go through this\\nTrue this, the streets school us to spend our money foolish\\nBond with jewelers and watch for intruders\\nI stepped it up another level, meditated like a Buddhist\\nRecruited lieutenants with ludicrous dreams of gettin' cream\\n\"Let's do this,\" it gets tedious\\nSo I keep one eye open like CBS — you see me stressed, right?\\n\\n[Chorus]\\nCan I live?\\nCan I live?\\nCan I live?\\nCan I live?</td>\n",
       "    </tr>\n",
       "    <tr>\n",
       "      <th>2</th>\n",
       "      <td>Fabolous</td>\n",
       "      <td>Forgive Me Father</td>\n",
       "      <td>Maybe cause I'm eatin\\nAnd these bastards fiend for they grub\\nI carry pumps like I serve gasoline to these scrubs\\nHave you seen my Aston leanin on dubs\\nAnd they can't afford chrome so they puttin Vaseline on they hubs\\nI'm lookin for a girl with a ass like Trina to rub\\nTake home and let her watch the plasma screen in the tub\\nThese niggas hate I move as smooth as castor cream in the club\\nAnd dont pass my green or my bub\\nBut I'm a fly nigga that don't do much to pull her and dick her\\nEveryday I'm poppin a tag and pullin a sticker\\nEveryday I'm switchin the tags and pullin up sicker\\nEvery \"K\" I'm loadin the mags with bullets to flicker\\nAnd I ain't hesitatin homie I'm pullin it quicker\\nSo you can act tough After a few pulls of some liquor\\nGotta pull it on niggas\\nAnd they won't be goin nowhere for a while\\nThey might as well pull out a snicker Ye-Ye-Yea\\n\\n[Hook]\\nForgive me father for I have sinned\\nBut look at all this money that I spend\\nAnd look at all this jewlery that I'm in\\nAnd look at all the places that I've been\\nAnd look at all the women in those brims\\nLook at the blue flames that I'm in\\nI look at all the bullshit that theres been\\nAnd if I had another chance I'd do it again\\n[Verse 2]\\nAnywhere the kid move you know the hammers'll be with me\\nPokin out the shirt like a Pamela Lee titty\\nI went on tour brought the samples of D wit me\\nCame back a month later bought a Lambo for three-fifty\\nThink I throw you grams if you read with me\\nJust because you see me on the camera with P. Diddy\\nDammit we P-driddy?? Now I got G with me\\nAlong with the third leg that I be rammin in these bitties\\nI keep the revolver you hope my gun'll jam\\nBut with the scope its gonna blam\\nThe infra put freckles on your face like Opie Cunningham\\nThats why I'm watched by the Feds and scoped by Uncle Sam\\nDope and hunn-ed (hundred) grams rope and hunn-ed grams\\nAt the same time an artist get to open Summer Jam\\nHope you understand or use better sense\\nThese niggas dont want no beef they want lawsuit settlements Nigga!\\n\\n[Hook]\\n\\n[Verse 3]\\nI'm in a waggy when I'm passin by ya\\nWith a baby girl who suck harder than Maggie on a pacifier\\nWhat I'm smokin'll have you aggie as your last supplier\\nWhen you can smell it through the baggie you know that's some fire\\nGettin stressed by these hotties is regular\\nI got a magazine to press to your body like editors\\nTest me somebody I'm beggin ya\\nI got the gatling gun like Jesse The Body in Predator\\nI'm a hustler I dont sling no rocks to the fiends now\\nGot dudes who sit on corners like a boxer between rounds\\nAny other dude who dish rocks want beef\\nCause I chop dimes bigger than Chris Rock front teeth\\nI'm the nigga tearin the walls up in your miss in exchange for a small cup\\nOf the Cris\\nAnd while you at probation fillin a small cup full of piss\\nI'm in a coupe with a roof that ball up like a fist (Catch up!)</td>\n",
       "    </tr>\n",
       "    <tr>\n",
       "      <th>3</th>\n",
       "      <td>Cam'ron</td>\n",
       "      <td>Down and Out</td>\n",
       "      <td>[Produced by Kanye West and Brian Miller]\\n\\n[Intro: Cam'ron &amp; Kanye West]\\nUgh, Killa!\\nBaby!\\nKanye, this that 1970s Heron flow, huh?\\nYeah, let's speed it up\\nUgh, I'm back in, ugh, ugh\\nThey don't know we finna kill the game this year\\nKilla! 'Ye! C'mon!\\n\\n[Verse 1: Cam'ron]\\nAyo, street mergers, I legislated; the nerve, I never hated\\nOn murders, premeditated—absurd! I hesitated\\nObserve: cock and spray, hit you from a block away\\nDrinking sake on a Suzuki; we in Osaka Bay\\nPlaying soccer, stupid, stay in a sucker's place\\nPluck your ace, take your girl, fuck her face\\nShe dealing with Killa, so you love her taste\\nShe swallowing Killa 'cause she love the taste\\nI got brought up with crooking, kitchen orders that I'm cooking\\nBut got caught up with the juxes\\nYou would've thought I was from Brooklyn\\nIt gets boring just looking\\nDid like Bill Cosby, pouring in the pudding\\nNow, the dashboard is wooden from a hard-tangled grammar\\nInterior, inferior; Star-Spangled Banner\\nCar game bananas, mob manning tanners\\nGuns everywhere, like the car came with hammers, he's back\\n[Chorus: Kanye West &amp; (Syleena Johnson)]\\nThey trying to say he (I'm down, down)\\nI hear niggas saying he (I'm down, but not out)\\nBut our flow is the truest (Oh), the game's in the nooses (No no)\\nOur girls is the models (Oh), they coochies the juiciest (Ooooh)\\nYeah, they say he (I'm down, down)\\nYeah, they say he (I'm down, but not out)\\n'Cause I'm back on my grind (Oh), money back on my mind (No no)\\nYe and Killa Cam, the world is mine (Oooh)\\n\\n[Verse 2: Cam'ron]\\nI treat bitches straight up, like Simon Says\\nOpen vagina; put your legs behind your head\\nCop me Air Ones, hon, lime and red\\nYou got pets? Me too: mines are dead, doggy\\nFox, minks, gators, that's necessary\\nAccessories, my closet's Pet Sematary\\nI get approached by animal activists\\nI live in a zoo, I run scandals with savages\\nAll my niggas get together to gather loot\\nBodyguard for what? Dog, I'd rather shoot\\nI go to war, old Timbs, battered boots\\nHand grenade, goggles and a parachute\\nY'all don't even know the name of my flip\\nIt was \"Touch Me, Tease Me\" when Case was the shit\\nYou don't know bout the cases I get:\\nCourt case, briefcase, suitcase, cases of Cris', oww!\\n[Chorus: Kanye West &amp; (Syleena Johnson)]\\nThey trying to say he (I'm down, down)\\nI hear niggas saying he (I'm down, but not out)\\nBut our flow is the truest (Oh), the game's in the nooses (No no)\\nOur girls is the models (Oh), they coochies the juiciest (Ooooh)\\nYeah, they say he (I'm down, down)\\nYeah, they say he (I'm down, but not out)\\n'Cause I'm back on my grind (Oh), money back on my mind (No no)\\nYe and Killa Cam, the world is mine (Oooh)\\n\\n[Verse 3: Cam'ron]\\nUgh, Killa, yo, yo, ayo—\\nYou dealing with some sure shit, my bitches pure thick\\nPlay razor tag, slice your face, you're it!\\nIt's I who come by, drive-thru\\nGator-toed Mauri, three quarters, sky-blue\\nLook at mami: eyes blue, 5'2''\\nI approached her—\"Hi, boo, how you?\\nPony skin Louie? Oh, you fly too\\nYou a stewardess? Good, ma—I fly too\"\\nNow, a nigga got baking to bake\\nHarlem shake? Nah, I'm in Harlem shaking the weight\\nShaking to bake, shaking the Jakes\\nKill you, shoot the funeral up and Harlem Shake at your wake\\nJust your picture, though; you still taped in a lake\\nI'm laughing; you couldn't wait to escape\\nFor anyone who owed the dough, I had to load the four\\nI hope a nigga heard when I said \"I told you so\"\\nUgh, Killa!\\n[Chorus: Kanye West &amp; (Syleena Johnson)]\\nThey trying to say he (I'm down, down)\\nI hear niggas saying he (I'm down, but not out)\\nBut our flow is the truest (Oh), the game's in the nooses (No no)\\nOur girls is the models (Oh), they coochies the juiciest (Ooooh)\\nYeah, they say he (I'm down, down)\\nYeah, they say he (I'm down, but not out)\\n'Cause I'm back on my grind (Oh), money back on my mind (No no)\\nYe and Killa Cam, the world is mine (Oooh)\\n\\n[Outro: Cam'ron]\\nMine! Killa!\\nYou already know Harlem\\nWhole Midwest, Detroit, Naptown, St. Louis\\nChicago, of course\\nWestside, holla at me\\nSouthside, wild hundreds\\nYou know what it is, Ohio\\nColumbus, holla at your boy\\nYou know what else I do:\\nDayton, Youngstown, Cleveland, Cincinnati</td>\n",
       "    </tr>\n",
       "    <tr>\n",
       "      <th>4</th>\n",
       "      <td>Lil Wayne</td>\n",
       "      <td>Fly In</td>\n",
       "      <td>[Intro]\\nSo they ask me\\n\"Young boy\\nWhat you gon' do the second time around?\\nHow you gon' come back?\"\\nI tried told 'em\\n\"I come back like 32\\nI jump back like 33\"\\nUgh, hit me\\nThat's nothing\\nThis is Tha Carter II, people\\nThis is Tha Carter II, people\\nHey\\n\\n[Verse]\\nThey call me Mr. Carter, I kissed the daughter\\nOf the dead's forehead, I killed the father\\nSpilled the heart of a mildew hater\\nI will put them body on chill like glaciers, gracias\\nI'm crazy, yes, it's obvious\\nGoing against me is atheist\\nI got my angels on my shoulder and a quarter of that angel dust\\nI ain't sniffing, I'm just pitching, your honor\\nI ain't snitching, your honor\\nHate bitch niggas, bitches with power\\nVacate when that kitchen get hotter\\nI just sit on the counter\\nOpen the cabinet, close the cupboard\\nPut that jar in the skillet, drop a four in the bubbles\\nI remember being young, tryna hustle my dope\\nTryna tell the old junkies that my crack ain't soap\\nTryna tell you 'fore you jump that my MAC ain't broke\\nYou ain't tryna see how far that black back lane go, no\\nCall me Pac-Man, your ghost is blue\\nI got my Red River rubies and my ocean blue jewelry\\nUsually I'm a hooligan for the money\\nYeah, I'm eating, but I got a tapeworm in my tummy, oh\\nMake harm and I bomb you in public\\nHit you with the straight-arm, no warning, nothing\\nLook, it's morning, no yawning or nothing\\nI ain't sleeping, I'm up tryna take a nigga lunch\\nYou gon' make a nigga break a nigga fronts\\nThen shake a nigga shorts and we taking what we want\\nI'm so 504, you got to kill me here\\nIf you ever looking for me, bitch, I will be here\\nCash Money is an army, Navy Seal me here\\nLot of niggas ran from me, but I still be here\\nNo chrome on the Continental, I'm so fundamental\\nCrack the Phil', crack the roof, and roll up the windows\\nAnd my hood love me, they tell me bring it home\\nThat's why I holler Hollygrove on each and every song\\nYou leaping at a dog, a dog with no bark\\nJust a bite like an old shark\\nAnd all you rich niggas know Pa, I'm talking 'bout Stunna\\nHe like, \"Keep your dough,\" he got your ho\\nAnd the sun shines on the king and sets on the prince\\nI met the Birdman and I been shining ever since, like that</td>\n",
       "    </tr>\n",
       "  </tbody>\n",
       "</table>\n",
       "</div>"
      ],
      "text/plain": [
       "      artist              title  \\\n",
       "0    Cam'ron          Killa Cam   \n",
       "1      JAY-Z         Can I Live   \n",
       "2   Fabolous  Forgive Me Father   \n",
       "3    Cam'ron       Down and Out   \n",
       "4  Lil Wayne             Fly In   \n",
       "\n",
       "                                                                                                                                                                                                                                                                                                                                                                                                                                                                                                                                                                                                                                                                                                                                                                                                                                                                                                                                                                                                                                                                                                                                                                                                                                                                                                                                                                                                                                                                                                                                                                                                                                                                                                                                                                                                                                                                                                                                                                                                                                                                                                                                                                                                                                                                                                                                                                                                                                                                                                                                                                                                                                                                                                                                                                                                                                                                                                                                                                                                                                                                                                                                                                                                                                                                                                                                                                                                                                                                                                                                                                                                                                                                                                                                                                                                                                                                                                                                                                                                                                                                                                                                                                                                                                                                                                                                                                                     lyrics  \n",
       "0                     [Chorus: Opera Steve & Cam'ron]\\nKilla Cam, Killa Cam, Cam\\nKilla Cam, Killa Cam\\nKilla Cam, Cam\\nKilla Cam, Killa Cam, Cam\\nKilla Killa Killa Cam\\nKilla Cam, Cam, Killa (Killa!)\\nKilla Cam, Killa Cam, Cam (Bases loaded)\\nKilla Cam, Killa Cam (Uh-huh)\\nKilla Cam, Cam (Santana on second, Jim on third)\\nKilla Cam, Killa Cam, Cam (I'm at bat)\\nKilla Killa Killa Cam\\nKilla Cam, Cam, Killa (I'm 'bout to hit this shit out the world)\\nKilla Cam (Ugh, Heatmakerz), Killa Cam, Cam\\nKilla Cam, Killa Cam\\nKilla Cam, Cam (Hahahaha)\\nKilla Cam, Killa Cam, Cam\\nKilla Killa Killa Cam\\nKilla Cam, Cam, Killa (We  make this shit clap)\\nKilla Cam, Killa Cam, Cam\\nKilla Cam, Killa Cam\\nKilla Cam, Cam\\nKilla Cam, Killa Cam, Cam\\nKilla Killa Killa Cam (Killa! Killa!)\\nKilla Cam, Cam, Killa\\n[Verse 1]\\nWith the goons I spar, stay in tune with ma (What up?)\\nShe like, \"Damn, this the realest since 'Kumbaya'\"\\nBomaye, Killa Cam, my Lord (My Lord)\\nStill the man with the pan, scrilla, fam, on board\\nNow bitches, they want to neuter me, niggas, they want to tutor me\\nThe hooligan in Houlihan's, maneuvering's nothing new to me\\nDoggy, I'm from the land of grind, pan-pan: gram or dime?\\nNot toes or MC when I say \"hammer time\"\\nBeef: I hammer mine, when I get my hands on nines\\nIf I had on 'Bama line, Corduroys, Cam'll shine\\nCanary burgundy: I call it \"Lemon Red\" (Red)\\nYellow diamonds in my ear, call 'em \"Lemonheads\"\\nLemonhead, end up dead, ice like Winnipeg\\nGemstone, Flintstones, you could say I'm friends with Fred\\nYou unhappy, scrappy? (What's going on, Scrappy?)\\nI got Pataki at me\\nBitches say I'm \"Tacky Daddy,\" Range look like Laffy Taffy\\n\\n[Chorus]\\nKilla Cam\\nKilla Cam Cam (sing)\\nKilla Cam Killa Cam\\nKilla Cam Cam (uhh, it's me, clap)\\nKilla Cam\\nKilla Cam Cam\\nKilla Killa Killa Cam (sing)\\nKilla Cam Cam Killa (uhh, it's me, clap)\\nKilla Cam\\nKilla Cam Cam (sing)\\nKilla Cam Killa Cam\\nKilla Cam Cam (clap, it's me)\\nKilla Cam\\nKilla Cam Cam\\nKilla Killa Killa Cam (clap)\\n(Harlem, I know y'all know about this)\\nKilla Cam Cam Killa (Killa!)\\n[Verse 2]\\nYo, I'm from where Nicky Barnes got rich as fuck\\nRich and A hit the kitchens then were pitchin' up\\nRob Base, Mase, Doug E Fresh switched it up\\nI do both, who am I to fuck tradition up? (Killa!)\\nSo I parked in a tow-away zone\\nChrome...I don't care\\nThat car a throwaway, homes (Killa!)\\nWelcome to Harlem, where you welcome to problems\\nOff of furlough, fellow felons get pardons\\nThem niggas knew we bang\\nStood out like Pootie Tang\\nSoon as the stoolie sings\\nThat when the toolie sing!\\nBang! Bang!\\nCame from that movie ring\\nSnap, crack jewelry bling\\nFlapjack, ooh he bring\\nClack-clack, \"ooh he ring!\"\\nBad rap, cuties cling\\nAss cap, put them in the river\\nI'm the sushi king\\nAnd I'ma keep ya fresh\\nLet the fish eat ya flesh\\nYes sir, please confess\\nJust say he's the best (Killa!)\\n[Chorus]\\nKilla Cam (sing)\\nKilla Cam Cam (clap)\\nKilla Cam Killa Cam (yes)\\nKilla Cam Cam (it's me, sing)\\nKilla Cam\\nKilla Cam Cam (sing)\\nKilla Killa Killa Cam\\nKilla Cam Cam Killa  (clap, yes sir, uhh)\\nKilla Cam\\nKilla Cam Cam (sing, clap)\\nKilla Cam Killa Cam\\nKilla Cam Cam (it's me)\\nKilla Cam (sing, clap)\\nKilla Cam Cam\\nKilla Killa Killa Cam\\n(Let me end this shit, listen)\\nKilla Cam Cam Killa\\n\\n[Verse 3]\\n(Killa!) Yo\\nHow dope is this?\\nTeach you how to rope a chick\\nWhat you want: coke or piff?\\nGot it all, smoke or sniff? (everything)\\nAnd you know my drift\\nUsed to figures, dough and shit (millions)\\nYou a rooster nigga, just a roaster, bitch\\nAnd I roast ya bitch\\nThat's how it usually ends\\nTell her and her groupie friends\\nGo get their coochie cleansed\\nWe the moody Gucci, Louis and Pucci men\\nEscada, Prada\\nThe chopper it got the Uzi lens\\nBird's-eye view\\nThe birds I knew flip birds\\nBird gangs, it was birds I flew\\nAnd word I blew off herb I grew\\nI would serve on stoops\\nNow swerve in coupes\\nIt's me, sing! Killa, uhh\\n\\n[Chorus]\\nKilla Cam\\nKilla Cam Cam\\nKilla Cam Killa Cam\\nKilla Cam Cam\\nKilla Cam\\nKilla Cam Cam\\nKilla Killa Killa Cam\\nKilla Cam Cam Killa\\nKilla Cam\\nKilla Cam Cam\\nKilla Cam Killa Cam\\nKilla Cam Cam\\nKilla Cam\\nKilla Cam Cam\\nKilla Killa Killa Cam\\nKilla Cam Cam Killa  \n",
       "1                                                                                                                                                                                                                                                                                                                                                                                                                                                                                                                                                                                                                                                                                                                                                                                                                                                                                                                                                                                                                                                                                                                                                                                                                                          [Produced by Irv Gotti]\\n\\n[Intro]\\nYeah, hah, yeah, Roc-A-Fella\\nWe invite you to somethin' epic, you know?\\nWell, we hustle out of a sense of hopelessness\\nSort of a desperation\\nThrough that desperation, we become addicted\\nSort of like the fiends we accustomed to servin'\\nBut we feel we have nothin' to lose\\nSo, we offer you, well, we offer our lives, right?\\nWhat do you bring to the table?\\n\\n[Verse 1]\\nWhile I'm watchin' every nigga watchin' me closely\\nMy shit is butter for the bread, they wanna toast me\\nI keep my head, both of them, where they supposed to be\\nHoes'll get you sidetracked, then clapped from close feet\\nI don't sleep, I'm tired, I feel wired like codeine, these days\\nA brother gotta admire me from four fiends away\\nMy pain, wish it was quick to see\\nFrom sellin' 'caine 'til brains was fried to a fricassee\\nCan't lie, at the time it never bothered me\\nAt the bar, gettin' my thug on properly\\nMy squad and me lack of respect for authority\\nLaughin' hard, happy to be escapin' poverty, however brief\\nI know this game got valleys and peaks\\nExpectation for dips, for precipitation we stack chips, hardly\\nThe youth I used to be, soon to see a mill'in\\nNo more Big Willie, my game has grown\\nPrefer you call me William\\nIllin' for revenues, Rayful Edmond-like\\nChannel 7 News, round seven jewels, head dead in the mic\\nForgettin' all I ever knew, convenient amnesia\\n\"I suggest you call my lawyer, I know the procedure.\"\\nLock my body, can't trap my mind\\nEasily explain why we adapt to crime\\nI'd rather die enormous than live dormant, that's how we on it\\nLive at the main event, I bet a trip to Maui on it\\nPresidential suites my residential for the weekend\\nConfidentially speakin' in codes since I sense you peekin'\\nThe NSX rental, don't be fooled, my game is mental\\nWe both out of town, dog, what you tryin' to get into?\\nViva Las Vegas, see ya later at the crap tables\\nMeet me by the one that starts a G up\\nThis way no Fraud Willies present gamblin' they re-up\\nAnd we can have a pleasant time, sippin' margaritas\\n[Chorus]\\nGe-ge-geyeahhh\\nCan I live?\\nCan I live?\\n\\n[Verse 2]\\nMy mind is infested with sick thoughts that circle\\nLike a Lexus, if driven wrong it's sure to hurt you\\nDual level like duplexes, in unity\\nMy crew and me commit atrocities like we got immunity\\nYou guessed it, manifest it\\nIn tangible goods, platinum Rolex'd it\\nWe don't lease, we buy the whole car, as you should\\nMy confederation, dead a nation\\nExplode on detonation, overload the mind of a said patient\\nWhen it boils to steam, it comes to it\\nWe all fiends, gotta do it: even righteous minds go through this\\nTrue this, the streets school us to spend our money foolish\\nBond with jewelers and watch for intruders\\nI stepped it up another level, meditated like a Buddhist\\nRecruited lieutenants with ludicrous dreams of gettin' cream\\n\"Let's do this,\" it gets tedious\\nSo I keep one eye open like CBS — you see me stressed, right?\\n\\n[Chorus]\\nCan I live?\\nCan I live?\\nCan I live?\\nCan I live?  \n",
       "2                                                                                                                                                                                                                                                                                                                                                                                                                                                                                                                                                                                                                                                                                                                                                                                                                                                                                                                                                                                                                                                                                                                                                                                                                                                                                                                                                                     Maybe cause I'm eatin\\nAnd these bastards fiend for they grub\\nI carry pumps like I serve gasoline to these scrubs\\nHave you seen my Aston leanin on dubs\\nAnd they can't afford chrome so they puttin Vaseline on they hubs\\nI'm lookin for a girl with a ass like Trina to rub\\nTake home and let her watch the plasma screen in the tub\\nThese niggas hate I move as smooth as castor cream in the club\\nAnd dont pass my green or my bub\\nBut I'm a fly nigga that don't do much to pull her and dick her\\nEveryday I'm poppin a tag and pullin a sticker\\nEveryday I'm switchin the tags and pullin up sicker\\nEvery \"K\" I'm loadin the mags with bullets to flicker\\nAnd I ain't hesitatin homie I'm pullin it quicker\\nSo you can act tough After a few pulls of some liquor\\nGotta pull it on niggas\\nAnd they won't be goin nowhere for a while\\nThey might as well pull out a snicker Ye-Ye-Yea\\n\\n[Hook]\\nForgive me father for I have sinned\\nBut look at all this money that I spend\\nAnd look at all this jewlery that I'm in\\nAnd look at all the places that I've been\\nAnd look at all the women in those brims\\nLook at the blue flames that I'm in\\nI look at all the bullshit that theres been\\nAnd if I had another chance I'd do it again\\n[Verse 2]\\nAnywhere the kid move you know the hammers'll be with me\\nPokin out the shirt like a Pamela Lee titty\\nI went on tour brought the samples of D wit me\\nCame back a month later bought a Lambo for three-fifty\\nThink I throw you grams if you read with me\\nJust because you see me on the camera with P. Diddy\\nDammit we P-driddy?? Now I got G with me\\nAlong with the third leg that I be rammin in these bitties\\nI keep the revolver you hope my gun'll jam\\nBut with the scope its gonna blam\\nThe infra put freckles on your face like Opie Cunningham\\nThats why I'm watched by the Feds and scoped by Uncle Sam\\nDope and hunn-ed (hundred) grams rope and hunn-ed grams\\nAt the same time an artist get to open Summer Jam\\nHope you understand or use better sense\\nThese niggas dont want no beef they want lawsuit settlements Nigga!\\n\\n[Hook]\\n\\n[Verse 3]\\nI'm in a waggy when I'm passin by ya\\nWith a baby girl who suck harder than Maggie on a pacifier\\nWhat I'm smokin'll have you aggie as your last supplier\\nWhen you can smell it through the baggie you know that's some fire\\nGettin stressed by these hotties is regular\\nI got a magazine to press to your body like editors\\nTest me somebody I'm beggin ya\\nI got the gatling gun like Jesse The Body in Predator\\nI'm a hustler I dont sling no rocks to the fiends now\\nGot dudes who sit on corners like a boxer between rounds\\nAny other dude who dish rocks want beef\\nCause I chop dimes bigger than Chris Rock front teeth\\nI'm the nigga tearin the walls up in your miss in exchange for a small cup\\nOf the Cris\\nAnd while you at probation fillin a small cup full of piss\\nI'm in a coupe with a roof that ball up like a fist (Catch up!)  \n",
       "3  [Produced by Kanye West and Brian Miller]\\n\\n[Intro: Cam'ron & Kanye West]\\nUgh, Killa!\\nBaby!\\nKanye, this that 1970s Heron flow, huh?\\nYeah, let's speed it up\\nUgh, I'm back in, ugh, ugh\\nThey don't know we finna kill the game this year\\nKilla! 'Ye! C'mon!\\n\\n[Verse 1: Cam'ron]\\nAyo, street mergers, I legislated; the nerve, I never hated\\nOn murders, premeditated—absurd! I hesitated\\nObserve: cock and spray, hit you from a block away\\nDrinking sake on a Suzuki; we in Osaka Bay\\nPlaying soccer, stupid, stay in a sucker's place\\nPluck your ace, take your girl, fuck her face\\nShe dealing with Killa, so you love her taste\\nShe swallowing Killa 'cause she love the taste\\nI got brought up with crooking, kitchen orders that I'm cooking\\nBut got caught up with the juxes\\nYou would've thought I was from Brooklyn\\nIt gets boring just looking\\nDid like Bill Cosby, pouring in the pudding\\nNow, the dashboard is wooden from a hard-tangled grammar\\nInterior, inferior; Star-Spangled Banner\\nCar game bananas, mob manning tanners\\nGuns everywhere, like the car came with hammers, he's back\\n[Chorus: Kanye West & (Syleena Johnson)]\\nThey trying to say he (I'm down, down)\\nI hear niggas saying he (I'm down, but not out)\\nBut our flow is the truest (Oh), the game's in the nooses (No no)\\nOur girls is the models (Oh), they coochies the juiciest (Ooooh)\\nYeah, they say he (I'm down, down)\\nYeah, they say he (I'm down, but not out)\\n'Cause I'm back on my grind (Oh), money back on my mind (No no)\\nYe and Killa Cam, the world is mine (Oooh)\\n\\n[Verse 2: Cam'ron]\\nI treat bitches straight up, like Simon Says\\nOpen vagina; put your legs behind your head\\nCop me Air Ones, hon, lime and red\\nYou got pets? Me too: mines are dead, doggy\\nFox, minks, gators, that's necessary\\nAccessories, my closet's Pet Sematary\\nI get approached by animal activists\\nI live in a zoo, I run scandals with savages\\nAll my niggas get together to gather loot\\nBodyguard for what? Dog, I'd rather shoot\\nI go to war, old Timbs, battered boots\\nHand grenade, goggles and a parachute\\nY'all don't even know the name of my flip\\nIt was \"Touch Me, Tease Me\" when Case was the shit\\nYou don't know bout the cases I get:\\nCourt case, briefcase, suitcase, cases of Cris', oww!\\n[Chorus: Kanye West & (Syleena Johnson)]\\nThey trying to say he (I'm down, down)\\nI hear niggas saying he (I'm down, but not out)\\nBut our flow is the truest (Oh), the game's in the nooses (No no)\\nOur girls is the models (Oh), they coochies the juiciest (Ooooh)\\nYeah, they say he (I'm down, down)\\nYeah, they say he (I'm down, but not out)\\n'Cause I'm back on my grind (Oh), money back on my mind (No no)\\nYe and Killa Cam, the world is mine (Oooh)\\n\\n[Verse 3: Cam'ron]\\nUgh, Killa, yo, yo, ayo—\\nYou dealing with some sure shit, my bitches pure thick\\nPlay razor tag, slice your face, you're it!\\nIt's I who come by, drive-thru\\nGator-toed Mauri, three quarters, sky-blue\\nLook at mami: eyes blue, 5'2''\\nI approached her—\"Hi, boo, how you?\\nPony skin Louie? Oh, you fly too\\nYou a stewardess? Good, ma—I fly too\"\\nNow, a nigga got baking to bake\\nHarlem shake? Nah, I'm in Harlem shaking the weight\\nShaking to bake, shaking the Jakes\\nKill you, shoot the funeral up and Harlem Shake at your wake\\nJust your picture, though; you still taped in a lake\\nI'm laughing; you couldn't wait to escape\\nFor anyone who owed the dough, I had to load the four\\nI hope a nigga heard when I said \"I told you so\"\\nUgh, Killa!\\n[Chorus: Kanye West & (Syleena Johnson)]\\nThey trying to say he (I'm down, down)\\nI hear niggas saying he (I'm down, but not out)\\nBut our flow is the truest (Oh), the game's in the nooses (No no)\\nOur girls is the models (Oh), they coochies the juiciest (Ooooh)\\nYeah, they say he (I'm down, down)\\nYeah, they say he (I'm down, but not out)\\n'Cause I'm back on my grind (Oh), money back on my mind (No no)\\nYe and Killa Cam, the world is mine (Oooh)\\n\\n[Outro: Cam'ron]\\nMine! Killa!\\nYou already know Harlem\\nWhole Midwest, Detroit, Naptown, St. Louis\\nChicago, of course\\nWestside, holla at me\\nSouthside, wild hundreds\\nYou know what it is, Ohio\\nColumbus, holla at your boy\\nYou know what else I do:\\nDayton, Youngstown, Cleveland, Cincinnati  \n",
       "4                                                                                                                                                                                                                                                                                                                                                                                                                                                                                                                                                                                                                                                                                                                                                                                                                                                                                                                                                                                                                                                                                                                                                                                                                                                                                                                                                                                                                                                                                                                                                                                                                                                                                                                                                                                                                                                                                                                                                                                                                                                                                    [Intro]\\nSo they ask me\\n\"Young boy\\nWhat you gon' do the second time around?\\nHow you gon' come back?\"\\nI tried told 'em\\n\"I come back like 32\\nI jump back like 33\"\\nUgh, hit me\\nThat's nothing\\nThis is Tha Carter II, people\\nThis is Tha Carter II, people\\nHey\\n\\n[Verse]\\nThey call me Mr. Carter, I kissed the daughter\\nOf the dead's forehead, I killed the father\\nSpilled the heart of a mildew hater\\nI will put them body on chill like glaciers, gracias\\nI'm crazy, yes, it's obvious\\nGoing against me is atheist\\nI got my angels on my shoulder and a quarter of that angel dust\\nI ain't sniffing, I'm just pitching, your honor\\nI ain't snitching, your honor\\nHate bitch niggas, bitches with power\\nVacate when that kitchen get hotter\\nI just sit on the counter\\nOpen the cabinet, close the cupboard\\nPut that jar in the skillet, drop a four in the bubbles\\nI remember being young, tryna hustle my dope\\nTryna tell the old junkies that my crack ain't soap\\nTryna tell you 'fore you jump that my MAC ain't broke\\nYou ain't tryna see how far that black back lane go, no\\nCall me Pac-Man, your ghost is blue\\nI got my Red River rubies and my ocean blue jewelry\\nUsually I'm a hooligan for the money\\nYeah, I'm eating, but I got a tapeworm in my tummy, oh\\nMake harm and I bomb you in public\\nHit you with the straight-arm, no warning, nothing\\nLook, it's morning, no yawning or nothing\\nI ain't sleeping, I'm up tryna take a nigga lunch\\nYou gon' make a nigga break a nigga fronts\\nThen shake a nigga shorts and we taking what we want\\nI'm so 504, you got to kill me here\\nIf you ever looking for me, bitch, I will be here\\nCash Money is an army, Navy Seal me here\\nLot of niggas ran from me, but I still be here\\nNo chrome on the Continental, I'm so fundamental\\nCrack the Phil', crack the roof, and roll up the windows\\nAnd my hood love me, they tell me bring it home\\nThat's why I holler Hollygrove on each and every song\\nYou leaping at a dog, a dog with no bark\\nJust a bite like an old shark\\nAnd all you rich niggas know Pa, I'm talking 'bout Stunna\\nHe like, \"Keep your dough,\" he got your ho\\nAnd the sun shines on the king and sets on the prince\\nI met the Birdman and I been shining ever since, like that  "
      ]
     },
     "execution_count": 8,
     "metadata": {},
     "output_type": "execute_result"
    }
   ],
   "source": [
    "df.head()"
   ]
  },
  {
   "cell_type": "code",
   "execution_count": 9,
   "id": "15990f1c",
   "metadata": {
    "execution": {
     "iopub.execute_input": "2024-08-06T21:31:28.761276Z",
     "iopub.status.busy": "2024-08-06T21:31:28.761039Z",
     "iopub.status.idle": "2024-08-06T21:31:29.901776Z",
     "shell.execute_reply": "2024-08-06T21:31:29.900567Z"
    },
    "papermill": {
     "duration": 1.151032,
     "end_time": "2024-08-06T21:31:29.903934",
     "exception": false,
     "start_time": "2024-08-06T21:31:28.752902",
     "status": "completed"
    },
    "tags": []
   },
   "outputs": [
    {
     "name": "stdout",
     "output_type": "stream",
     "text": [
      "artist      0\n",
      "title     127\n",
      "lyrics      0\n",
      "dtype: int64\n"
     ]
    }
   ],
   "source": [
    "# Check for missing values\n",
    "print(df.isnull().sum())"
   ]
  },
  {
   "cell_type": "code",
   "execution_count": 10,
   "id": "483e75ee",
   "metadata": {
    "execution": {
     "iopub.execute_input": "2024-08-06T21:31:29.920786Z",
     "iopub.status.busy": "2024-08-06T21:31:29.920205Z",
     "iopub.status.idle": "2024-08-06T21:31:59.722568Z",
     "shell.execute_reply": "2024-08-06T21:31:59.721467Z"
    },
    "papermill": {
     "duration": 29.813159,
     "end_time": "2024-08-06T21:31:59.724819",
     "exception": false,
     "start_time": "2024-08-06T21:31:29.911660",
     "status": "completed"
    },
    "tags": []
   },
   "outputs": [
    {
     "name": "stdout",
     "output_type": "stream",
     "text": [
      "3\n"
     ]
    }
   ],
   "source": [
    "# Check for duplicate rows\n",
    "print(df.duplicated().sum())"
   ]
  },
  {
   "cell_type": "code",
   "execution_count": 11,
   "id": "25ad487d",
   "metadata": {
    "execution": {
     "iopub.execute_input": "2024-08-06T21:31:59.743019Z",
     "iopub.status.busy": "2024-08-06T21:31:59.742259Z",
     "iopub.status.idle": "2024-08-06T21:31:59.839067Z",
     "shell.execute_reply": "2024-08-06T21:31:59.838178Z"
    },
    "papermill": {
     "duration": 0.107488,
     "end_time": "2024-08-06T21:31:59.841167",
     "exception": false,
     "start_time": "2024-08-06T21:31:59.733679",
     "status": "completed"
    },
    "tags": []
   },
   "outputs": [
    {
     "name": "stdout",
     "output_type": "stream",
     "text": [
      "1445885                                                                                                                                                                                                                                                                                                                                                                                                                                                                                                                                                                                                              [Chorus]\\nThere's a world outside my window\\nThat I just can't bear\\nBlues held me up against the wall\\nFor way too long\\nMomma said I drink too much, babe\\nCan't hold it down\\nBlues held me up against the wall\\nFor way too long\\n\\n[Verse]\\nCan't stop me now, babe\\nGot it running through my veins\\nHad my back against the wall\\nFor way too long\\nSing blues and fold some rhymes\\n'Til the day comes around\\nI had my back against the wall\\nFor way too long\\n\\n[Chorus]\\nThere's a world outside my window\\nThat I just can't bear\\nBlues held me up against the wall\\nFor way too long\\nMomma said I drink too much, babe\\nCan't hold it down\\nBlues held me up against the wall\\nFor way too long\n",
      "975129                                                                                                                                                                                                                                                                                                                                                                                                                                                                                                                                                                                                                                                                                                                                                                                                          My greatest joy is within Your presence\\nWhere the love You gave saved me\\nAnd my most treasured times are in the stillness\\nWhere Your loving arms hold me\\n\\nCause You're all I want\\nYou are all I search for\\nIt is You I've always longed for\\n\\nGod I come\\nTo be here with You\\nTo be here for You and You alone\\n\\nI worship You\\nWith my heart and soul\\nEverything I give to You alone\\n\\nAll creation sings Your praises\\nCrowns You Lord of all\\nKings and rulers bow before You\\nHail You Lord of lords\n",
      "805690                                                                                                                                                                                                                                                                                                                                                                                                                                                                                                                                                                                                                                                                                             Well if I were you I'd be wiser\\nTo the sounds that make you up\\nAnd if only time was longer\\nI'd be gone\\nAnd if what you say is the answer\\nAnd for all you know it's true\\nMaybe I sleep too long\\nOr sometimes speak too soon\\n\\nAnd remember the sun don't shine\\nAnd remember the sky's not blue\\nAnd if only I was you\\nI'd be right along here hiding behind the moon\\n\\nWell I should have known you'd be leaving\\nJust as soon as you got here\\nAnd in time I'll fall around you\\nAnd disappear\\nAnd the thought of a day left to wander\\nIn a time with eyes on me\\nMaybe I say too much\\nBut with that we'll disagree\n",
      "3267930    Waking up\\nThinking how long ago\\nIt was when we first met\\nI felt the chill in the air\\nButterflies, but it was no surprise\\nYou’re a gift to me\\nYour words hit me so softly\\n\\nMerry Christmas, Baby\\nMerry Christmas, to you\\nYour presence and cheer\\nKeep me warm my dear\\nThe cold nights don’t feel\\nHalf the same babe I’m cozy with you\\nThis Christmas, I’m cozy with you\\n\\nSippin’ wine\\nWarm by the firelight\\nYour arms hold me so tight\\nAnd feels so right\\nThe spirit in the air\\nThe holiday cheer\\nThe movies, the food\\nIt's nothing without you\\nWithout you\\nMerry Christmas, Baby (Christmas baby)\\nMerry Christmas, to you (Christmas, to you)\\nYour presence and cheer (your presence)\\nKeep me warm my dear\\nThe cold nights don’t feel\\nHalf the same babe I’m cozy with you (with you, this Christmas)\\nThis Christmas, I’m cozy with you\\n\\n(My love)\\nHang the stockings by the fire\\n(Pure joy)\\nCarols sung by the choir\\n(No place)\\nThat I’ll rather be\\nThan right here with you\\nHere with you\\n\\nMerry Christmas, Baby (Christmas baby)\\nMerry Christmas, to you (Christmas, to you)\\nYour presence and cheer (your presence)\\nKeep me warm my dear\\nThe cold nights don’t feel\\nHalf the same babe I’m cozy with you (with you, this Christmas)\\nThis Christmas, I’m cozy with you\n",
      "1841814                                                                                                                                                                                                                                                                                                                                                                                                                                                                                                                                                                                                                                                                                                                                                           Day, I found my station\\nHey, I bring my nation\\nWow I found my song now\\nWow you make me complete now\\n\\nDay, you bring me you now\\nHey, you make me feel right\\nWow I found my song now\\nWow you make me complete now\\n\\nNight, she looks so amazing\\nLight, you're so bright now\\nWow I found my song now\\nWow you make me complete now\\n\\nNight, she helps me find you\\nLight, you made me love you\\nWow I found my song now\\nWow you make me complete now\\n\\nUh, my song is playing now\\nLet's go to make our sound\\nComplete now\\nComplete now\\nComplete now\n",
      "Name: lyrics, dtype: object\n"
     ]
    }
   ],
   "source": [
    "# Display a random sample of 5 lyrics entries\n",
    "print(df['lyrics'].sample(5))"
   ]
  },
  {
   "cell_type": "code",
   "execution_count": 12,
   "id": "5f6c9a96",
   "metadata": {
    "execution": {
     "iopub.execute_input": "2024-08-06T21:31:59.857977Z",
     "iopub.status.busy": "2024-08-06T21:31:59.857310Z",
     "iopub.status.idle": "2024-08-06T21:32:02.452510Z",
     "shell.execute_reply": "2024-08-06T21:32:02.451521Z"
    },
    "papermill": {
     "duration": 2.605873,
     "end_time": "2024-08-06T21:32:02.454798",
     "exception": false,
     "start_time": "2024-08-06T21:31:59.848925",
     "status": "completed"
    },
    "tags": []
   },
   "outputs": [
    {
     "name": "stdout",
     "output_type": "stream",
     "text": [
      "Original DataFrame had 3374943 entries, filtered DataFrame has 1239736 entries.\n"
     ]
    }
   ],
   "source": [
    "# Define a threshold for maximum allowed characters in lyrics\n",
    "MAX_CHAR_THRESHOLD = 1000  # Adjust this value based on your analysis\n",
    "\n",
    "# Filter the DataFrame to remove entries with lyrics exceeding the threshold\n",
    "filtered_df = df[df['lyrics'].str.len() <= MAX_CHAR_THRESHOLD]\n",
    "\n",
    "print(f\"Original DataFrame had {len(df)} entries, filtered DataFrame has {len(filtered_df)} entries.\")"
   ]
  },
  {
   "cell_type": "code",
   "execution_count": 13,
   "id": "a77c8eea",
   "metadata": {
    "execution": {
     "iopub.execute_input": "2024-08-06T21:32:02.472262Z",
     "iopub.status.busy": "2024-08-06T21:32:02.471754Z",
     "iopub.status.idle": "2024-08-06T21:32:02.481730Z",
     "shell.execute_reply": "2024-08-06T21:32:02.480827Z"
    },
    "papermill": {
     "duration": 0.020812,
     "end_time": "2024-08-06T21:32:02.483833",
     "exception": false,
     "start_time": "2024-08-06T21:32:02.463021",
     "status": "completed"
    },
    "tags": []
   },
   "outputs": [
    {
     "data": {
      "text/html": [
       "<div>\n",
       "<style scoped>\n",
       "    .dataframe tbody tr th:only-of-type {\n",
       "        vertical-align: middle;\n",
       "    }\n",
       "\n",
       "    .dataframe tbody tr th {\n",
       "        vertical-align: top;\n",
       "    }\n",
       "\n",
       "    .dataframe thead th {\n",
       "        text-align: right;\n",
       "    }\n",
       "</style>\n",
       "<table border=\"1\" class=\"dataframe\">\n",
       "  <thead>\n",
       "    <tr style=\"text-align: right;\">\n",
       "      <th></th>\n",
       "      <th>artist</th>\n",
       "      <th>title</th>\n",
       "      <th>lyrics</th>\n",
       "    </tr>\n",
       "  </thead>\n",
       "  <tbody>\n",
       "    <tr>\n",
       "      <th>160</th>\n",
       "      <td>Domo Genesis</td>\n",
       "      <td>Dreams</td>\n",
       "      <td>Now if I see it in my dreams\\nIs it for real? Somebody tell me what it means\\nSometimes it ain't really what it seems\\nCause this could all really be a dream\\nIs it a dream? Is it a dream?\\nAm I living what I'm seeing in my sleep?\\nOr is my imagination tripping off some weed?\\nIs this all the shit I really need?\\nIn my dream, is this a dream?\\nWill my dreams make it past here?\\nOr will I always try to do better than last year?\\nI'm not afraid of what the future brings\\nBut this a dream, a vivid dream, it's in my dreams\\nI already see it in my dreams</td>\n",
       "    </tr>\n",
       "    <tr>\n",
       "      <th>208</th>\n",
       "      <td>Bizzy Bone</td>\n",
       "      <td>A Thugz Prayer</td>\n",
       "      <td>[Bizzy Bone]\\nI am not John, I am not Jesus\\nAnd I could never be Judas\\nI can't be a harlot, I could never be a dragon\\nMy name, is Bryon\\nI am a slave of Allah\\nThe master, of creation\\nThe creator of alllllllll that Allah needs\\nThe birds, the bees, the trees\\nAnd all that exists\\nAnd if the Big Bang Theory is actually true\\nThen you must explain to me, explain to me\\nExplain to me creation\\nAnd explain to me nothing</td>\n",
       "    </tr>\n",
       "    <tr>\n",
       "      <th>400</th>\n",
       "      <td>2Pac</td>\n",
       "      <td>St. Ides Liquor Commercial 1993</td>\n",
       "      <td>[Intro: 2Pac Talking]\\nHA HA HA HA HA\\nYou got St. Ides?\\nOur friends getting it though\\nIt's it..\\nSt. - Ides\\n\\n[2Pac]\\nNobody knows the trouble that brother sees\\nMobbing with the homies cause they're true Gs\\nCount cash and, hands on the Ides cold glass\\nAnd yet.. waiting for my homie to pass me\\nThe S-T-Crooked-Ides\\nTook the sipping out, had to take another\\nBefore I pack a ten for my brother\\nThug for life, a G 'til they bury me\\nBusting, I don't be trusting these tricks\\nSo they done worry me\\nNow, I'm a well known figure, getting paid\\nCame a long way from the old days\\nI gotta get mine, cause in my mind;\\nPour some liquor on the curb for my dogs\\n[Outro: 2Pac Talking w/ Echoes]\\nSt. Ides\\nRight?</td>\n",
       "    </tr>\n",
       "    <tr>\n",
       "      <th>434</th>\n",
       "      <td>Charizma &amp; Peanut Butter Wolf</td>\n",
       "      <td>Talk About A Girl</td>\n",
       "      <td>Errr why what happened?\\nOh okay\\nOkay okay, I give in\\nYou got a friend? Then meet me and my man arooound ten\\nYou see I play a Too $hort tape\\nJust to let you tricky little girls know I'm not fake\\nA little anxious school girl get comfty\\nDim the lights and unplug the phone cause it bugs me\\nI'm wearin' Timbs with a .22 at my waist\\nApple juice is cold and I'm in the place\\nSometimes I think about you (*echos*)\\nSometimes I think about your whole crew\\nI got style, so I relax\\nKnowin' I wanna dive in it, it'll take twenty laps\\nHop in my mom car and lets take a ride\\nThen maybe you will realize\\nI know she saw me (*echos*)</td>\n",
       "    </tr>\n",
       "    <tr>\n",
       "      <th>607</th>\n",
       "      <td>Loaded Lux</td>\n",
       "      <td>Gully TV DVD Freestyle</td>\n",
       "      <td>I been rocking since the cradle\\nBarfight, my jaw tight, my chin is stable\\nMy kenel cable won't be stripped by any label\\nWe gots to sticks together like chinks at the dinner table\\nDope slingers, the throat stranglers\\nShows, hoes hang out the rows like boat anchors\\nCoat hangers, I'm in the arms, launching on no-namers\\nI been battling scarecrows, this shit's been a no-brainer\\nHe hoping bail come through\\nThe jail feel like shampoo, that was the cell son blew\\nThe brick get frail, piff go stale\\nIt's like a nigga hustling always seem to tip with the scale\\nI got scripts in the mail, paint the slum block vivid\\nWhere that young Pac kick it there's always some cop frisking\\nHeavy metal banging and we don't let the punks rock\\nAnd a nigga with the jumpshot clicking always the gunshot victim</td>\n",
       "    </tr>\n",
       "  </tbody>\n",
       "</table>\n",
       "</div>"
      ],
      "text/plain": [
       "                            artist                            title  \\\n",
       "160                   Domo Genesis                           Dreams   \n",
       "208                     Bizzy Bone                   A Thugz Prayer   \n",
       "400                           2Pac  St. Ides Liquor Commercial 1993   \n",
       "434  Charizma & Peanut Butter Wolf                Talk About A Girl   \n",
       "607                     Loaded Lux           Gully TV DVD Freestyle   \n",
       "\n",
       "                                                                                                                                                                                                                                                                                                                                                                                                                                                                                                                                                                                                                                                                                                                                                                                                                                 lyrics  \n",
       "160                                                                                                                                                                                                                                                         Now if I see it in my dreams\\nIs it for real? Somebody tell me what it means\\nSometimes it ain't really what it seems\\nCause this could all really be a dream\\nIs it a dream? Is it a dream?\\nAm I living what I'm seeing in my sleep?\\nOr is my imagination tripping off some weed?\\nIs this all the shit I really need?\\nIn my dream, is this a dream?\\nWill my dreams make it past here?\\nOr will I always try to do better than last year?\\nI'm not afraid of what the future brings\\nBut this a dream, a vivid dream, it's in my dreams\\nI already see it in my dreams  \n",
       "208                                                                                                                                                                                                                                                                                                                                                                                             [Bizzy Bone]\\nI am not John, I am not Jesus\\nAnd I could never be Judas\\nI can't be a harlot, I could never be a dragon\\nMy name, is Bryon\\nI am a slave of Allah\\nThe master, of creation\\nThe creator of alllllllll that Allah needs\\nThe birds, the bees, the trees\\nAnd all that exists\\nAnd if the Big Bang Theory is actually true\\nThen you must explain to me, explain to me\\nExplain to me creation\\nAnd explain to me nothing  \n",
       "400                                                                                          [Intro: 2Pac Talking]\\nHA HA HA HA HA\\nYou got St. Ides?\\nOur friends getting it though\\nIt's it..\\nSt. - Ides\\n\\n[2Pac]\\nNobody knows the trouble that brother sees\\nMobbing with the homies cause they're true Gs\\nCount cash and, hands on the Ides cold glass\\nAnd yet.. waiting for my homie to pass me\\nThe S-T-Crooked-Ides\\nTook the sipping out, had to take another\\nBefore I pack a ten for my brother\\nThug for life, a G 'til they bury me\\nBusting, I don't be trusting these tricks\\nSo they done worry me\\nNow, I'm a well known figure, getting paid\\nCame a long way from the old days\\nI gotta get mine, cause in my mind;\\nPour some liquor on the curb for my dogs\\n[Outro: 2Pac Talking w/ Echoes]\\nSt. Ides\\nRight?  \n",
       "434                                                                                                                                                                            Errr why what happened?\\nOh okay\\nOkay okay, I give in\\nYou got a friend? Then meet me and my man arooound ten\\nYou see I play a Too $hort tape\\nJust to let you tricky little girls know I'm not fake\\nA little anxious school girl get comfty\\nDim the lights and unplug the phone cause it bugs me\\nI'm wearin' Timbs with a .22 at my waist\\nApple juice is cold and I'm in the place\\nSometimes I think about you (*echos*)\\nSometimes I think about your whole crew\\nI got style, so I relax\\nKnowin' I wanna dive in it, it'll take twenty laps\\nHop in my mom car and lets take a ride\\nThen maybe you will realize\\nI know she saw me (*echos*)  \n",
       "607  I been rocking since the cradle\\nBarfight, my jaw tight, my chin is stable\\nMy kenel cable won't be stripped by any label\\nWe gots to sticks together like chinks at the dinner table\\nDope slingers, the throat stranglers\\nShows, hoes hang out the rows like boat anchors\\nCoat hangers, I'm in the arms, launching on no-namers\\nI been battling scarecrows, this shit's been a no-brainer\\nHe hoping bail come through\\nThe jail feel like shampoo, that was the cell son blew\\nThe brick get frail, piff go stale\\nIt's like a nigga hustling always seem to tip with the scale\\nI got scripts in the mail, paint the slum block vivid\\nWhere that young Pac kick it there's always some cop frisking\\nHeavy metal banging and we don't let the punks rock\\nAnd a nigga with the jumpshot clicking always the gunshot victim  "
      ]
     },
     "execution_count": 13,
     "metadata": {},
     "output_type": "execute_result"
    }
   ],
   "source": [
    "filtered_df.head(5)"
   ]
  },
  {
   "cell_type": "code",
   "execution_count": 14,
   "id": "0fc7bf88",
   "metadata": {
    "execution": {
     "iopub.execute_input": "2024-08-06T21:32:02.500957Z",
     "iopub.status.busy": "2024-08-06T21:32:02.500676Z",
     "iopub.status.idle": "2024-08-06T21:32:02.506066Z",
     "shell.execute_reply": "2024-08-06T21:32:02.505343Z"
    },
    "papermill": {
     "duration": 0.016314,
     "end_time": "2024-08-06T21:32:02.508114",
     "exception": false,
     "start_time": "2024-08-06T21:32:02.491800",
     "status": "completed"
    },
    "tags": []
   },
   "outputs": [],
   "source": [
    "def preprocess_text(text):\n",
    "    # Lowercase to normalize case\n",
    "    text = text.lower()\n",
    "\n",
    "    # Removing specific annotations and preserving lyrical punctuation\n",
    "    text = re.sub(r\"\\[.*?\\]|\\(.*?\\)\", \"\", text)  # Remove annotations like [Chorus] or (Verse)\n",
    "    text = re.sub(r'[^\\w\\s,!?]', '', text)  # Preserve commas, exclamations, and question marks\n",
    "\n",
    "    # Compact multiple whitespaces\n",
    "    text = re.sub(r'\\s+', ' ', text).strip()\n",
    "\n",
    "    # Tokenization and join back without filtering for stopwords or correcting spelling\n",
    "    tokens = text.split()  # Using simple split to preserve structure and repetitions\n",
    "\n",
    "    # Return joined tokens as the final preprocessed text\n",
    "    return ' '.join(tokens)"
   ]
  },
  {
   "cell_type": "code",
   "execution_count": 15,
   "id": "b92bbd1d",
   "metadata": {
    "execution": {
     "iopub.execute_input": "2024-08-06T21:32:02.525454Z",
     "iopub.status.busy": "2024-08-06T21:32:02.525199Z",
     "iopub.status.idle": "2024-08-06T21:32:02.532423Z",
     "shell.execute_reply": "2024-08-06T21:32:02.531729Z"
    },
    "papermill": {
     "duration": 0.018061,
     "end_time": "2024-08-06T21:32:02.534266",
     "exception": false,
     "start_time": "2024-08-06T21:32:02.516205",
     "status": "completed"
    },
    "tags": []
   },
   "outputs": [],
   "source": [
    "def process_batches(df, output_file, batch_size=1000):\n",
    "    df.reset_index(drop=True, inplace=True)\n",
    "    if os.path.exists(output_file):\n",
    "        existing_df = pd.read_csv(output_file)\n",
    "        last_processed_idx = existing_df.tail(1).index.item() * batch_size\n",
    "    else:\n",
    "        last_processed_idx = -1\n",
    "\n",
    "    num_batches = (len(df) + batch_size - 1) // batch_size\n",
    "\n",
    "    for i in range(num_batches):\n",
    "        start_idx = i * batch_size\n",
    "        end_idx = min(start_idx + batch_size, len(df))\n",
    "        if start_idx <= last_processed_idx:\n",
    "            continue\n",
    "        \n",
    "        batch = df.iloc[start_idx:end_idx].copy()\n",
    "        batch['lyrics'] = batch['lyrics'].apply(preprocess_text)  # No row_number is passed here\n",
    "        \n",
    "        batch.to_csv(output_file, mode='a', index=False, header=not os.path.exists(output_file))\n",
    "        del batch\n",
    "        gc.collect()\n"
   ]
  },
  {
   "cell_type": "code",
   "execution_count": 16,
   "id": "3e223762",
   "metadata": {
    "execution": {
     "iopub.execute_input": "2024-08-06T21:32:02.551411Z",
     "iopub.status.busy": "2024-08-06T21:32:02.550950Z",
     "iopub.status.idle": "2024-08-06T21:35:14.044555Z",
     "shell.execute_reply": "2024-08-06T21:35:14.043755Z"
    },
    "papermill": {
     "duration": 191.504609,
     "end_time": "2024-08-06T21:35:14.047112",
     "exception": false,
     "start_time": "2024-08-06T21:32:02.542503",
     "status": "completed"
    },
    "tags": []
   },
   "outputs": [],
   "source": [
    "# sample_df = df.sample(n=3000000, random_state=42)  # Sample for initial testing\n",
    "process_batches(filtered_df, 'English_preprocessed_data.csv', batch_size=100000)"
   ]
  },
  {
   "cell_type": "code",
   "execution_count": 17,
   "id": "c1447433",
   "metadata": {
    "execution": {
     "iopub.execute_input": "2024-08-06T21:35:14.065010Z",
     "iopub.status.busy": "2024-08-06T21:35:14.064728Z",
     "iopub.status.idle": "2024-08-06T21:35:23.874918Z",
     "shell.execute_reply": "2024-08-06T21:35:23.873858Z"
    },
    "papermill": {
     "duration": 9.821631,
     "end_time": "2024-08-06T21:35:23.877226",
     "exception": false,
     "start_time": "2024-08-06T21:35:14.055595",
     "status": "completed"
    },
    "tags": []
   },
   "outputs": [],
   "source": [
    "output_file_filtered = pd.read_csv('/kaggle/working/English_preprocessed_data.csv')"
   ]
  },
  {
   "cell_type": "code",
   "execution_count": 18,
   "id": "296e1e04",
   "metadata": {
    "execution": {
     "iopub.execute_input": "2024-08-06T21:35:23.895797Z",
     "iopub.status.busy": "2024-08-06T21:35:23.895026Z",
     "iopub.status.idle": "2024-08-06T21:35:23.905516Z",
     "shell.execute_reply": "2024-08-06T21:35:23.904679Z"
    },
    "papermill": {
     "duration": 0.021657,
     "end_time": "2024-08-06T21:35:23.907337",
     "exception": false,
     "start_time": "2024-08-06T21:35:23.885680",
     "status": "completed"
    },
    "tags": []
   },
   "outputs": [
    {
     "data": {
      "text/html": [
       "<div>\n",
       "<style scoped>\n",
       "    .dataframe tbody tr th:only-of-type {\n",
       "        vertical-align: middle;\n",
       "    }\n",
       "\n",
       "    .dataframe tbody tr th {\n",
       "        vertical-align: top;\n",
       "    }\n",
       "\n",
       "    .dataframe thead th {\n",
       "        text-align: right;\n",
       "    }\n",
       "</style>\n",
       "<table border=\"1\" class=\"dataframe\">\n",
       "  <thead>\n",
       "    <tr style=\"text-align: right;\">\n",
       "      <th></th>\n",
       "      <th>artist</th>\n",
       "      <th>title</th>\n",
       "      <th>lyrics</th>\n",
       "    </tr>\n",
       "  </thead>\n",
       "  <tbody>\n",
       "    <tr>\n",
       "      <th>0</th>\n",
       "      <td>Domo Genesis</td>\n",
       "      <td>Dreams</td>\n",
       "      <td>now if i see it in my dreams is it for real? somebody tell me what it means sometimes it aint really what it seems cause this could all really be a dream is it a dream? is it a dream? am i living what im seeing in my sleep? or is my imagination tripping off some weed? is this all the shit i really need? in my dream, is this a dream? will my dreams make it past here? or will i always try to do better than last year? im not afraid of what the future brings but this a dream, a vivid dream, its in my dreams i already see it in my dreams</td>\n",
       "    </tr>\n",
       "    <tr>\n",
       "      <th>1</th>\n",
       "      <td>Bizzy Bone</td>\n",
       "      <td>A Thugz Prayer</td>\n",
       "      <td>i am not john, i am not jesus and i could never be judas i cant be a harlot, i could never be a dragon my name, is bryon i am a slave of allah the master, of creation the creator of alllllllll that allah needs the birds, the bees, the trees and all that exists and if the big bang theory is actually true then you must explain to me, explain to me explain to me creation and explain to me nothing</td>\n",
       "    </tr>\n",
       "    <tr>\n",
       "      <th>2</th>\n",
       "      <td>2Pac</td>\n",
       "      <td>St. Ides Liquor Commercial 1993</td>\n",
       "      <td>ha ha ha ha ha you got st ides? our friends getting it though its it st ides nobody knows the trouble that brother sees mobbing with the homies cause theyre true gs count cash and, hands on the ides cold glass and yet waiting for my homie to pass me the stcrookedides took the sipping out, had to take another before i pack a ten for my brother thug for life, a g til they bury me busting, i dont be trusting these tricks so they done worry me now, im a well known figure, getting paid came a long way from the old days i gotta get mine, cause in my mind pour some liquor on the curb for my dogs st ides right?</td>\n",
       "    </tr>\n",
       "    <tr>\n",
       "      <th>3</th>\n",
       "      <td>Charizma &amp; Peanut Butter Wolf</td>\n",
       "      <td>Talk About A Girl</td>\n",
       "      <td>errr why what happened? oh okay okay okay, i give in you got a friend? then meet me and my man arooound ten you see i play a too hort tape just to let you tricky little girls know im not fake a little anxious school girl get comfty dim the lights and unplug the phone cause it bugs me im wearin timbs with a 22 at my waist apple juice is cold and im in the place sometimes i think about you sometimes i think about your whole crew i got style, so i relax knowin i wanna dive in it, itll take twenty laps hop in my mom car and lets take a ride then maybe you will realize i know she saw me</td>\n",
       "    </tr>\n",
       "    <tr>\n",
       "      <th>4</th>\n",
       "      <td>Loaded Lux</td>\n",
       "      <td>Gully TV DVD Freestyle</td>\n",
       "      <td>i been rocking since the cradle barfight, my jaw tight, my chin is stable my kenel cable wont be stripped by any label we gots to sticks together like chinks at the dinner table dope slingers, the throat stranglers shows, hoes hang out the rows like boat anchors coat hangers, im in the arms, launching on nonamers i been battling scarecrows, this shits been a nobrainer he hoping bail come through the jail feel like shampoo, that was the cell son blew the brick get frail, piff go stale its like a nigga hustling always seem to tip with the scale i got scripts in the mail, paint the slum block vivid where that young pac kick it theres always some cop frisking heavy metal banging and we dont let the punks rock and a nigga with the jumpshot clicking always the gunshot victim</td>\n",
       "    </tr>\n",
       "  </tbody>\n",
       "</table>\n",
       "</div>"
      ],
      "text/plain": [
       "                          artist                            title  \\\n",
       "0                   Domo Genesis                           Dreams   \n",
       "1                     Bizzy Bone                   A Thugz Prayer   \n",
       "2                           2Pac  St. Ides Liquor Commercial 1993   \n",
       "3  Charizma & Peanut Butter Wolf                Talk About A Girl   \n",
       "4                     Loaded Lux           Gully TV DVD Freestyle   \n",
       "\n",
       "                                                                                                                                                                                                                                                                                                                                                                                                                                                                                                                                                                                                                                                                                                                                                                                                        lyrics  \n",
       "0                                                                                                                                                                                                                                                   now if i see it in my dreams is it for real? somebody tell me what it means sometimes it aint really what it seems cause this could all really be a dream is it a dream? is it a dream? am i living what im seeing in my sleep? or is my imagination tripping off some weed? is this all the shit i really need? in my dream, is this a dream? will my dreams make it past here? or will i always try to do better than last year? im not afraid of what the future brings but this a dream, a vivid dream, its in my dreams i already see it in my dreams  \n",
       "1                                                                                                                                                                                                                                                                                                                                                                                                 i am not john, i am not jesus and i could never be judas i cant be a harlot, i could never be a dragon my name, is bryon i am a slave of allah the master, of creation the creator of alllllllll that allah needs the birds, the bees, the trees and all that exists and if the big bang theory is actually true then you must explain to me, explain to me explain to me creation and explain to me nothing  \n",
       "2                                                                                                                                                                           ha ha ha ha ha you got st ides? our friends getting it though its it st ides nobody knows the trouble that brother sees mobbing with the homies cause theyre true gs count cash and, hands on the ides cold glass and yet waiting for my homie to pass me the stcrookedides took the sipping out, had to take another before i pack a ten for my brother thug for life, a g til they bury me busting, i dont be trusting these tricks so they done worry me now, im a well known figure, getting paid came a long way from the old days i gotta get mine, cause in my mind pour some liquor on the curb for my dogs st ides right?  \n",
       "3                                                                                                                                                                                                 errr why what happened? oh okay okay okay, i give in you got a friend? then meet me and my man arooound ten you see i play a too hort tape just to let you tricky little girls know im not fake a little anxious school girl get comfty dim the lights and unplug the phone cause it bugs me im wearin timbs with a 22 at my waist apple juice is cold and im in the place sometimes i think about you sometimes i think about your whole crew i got style, so i relax knowin i wanna dive in it, itll take twenty laps hop in my mom car and lets take a ride then maybe you will realize i know she saw me  \n",
       "4  i been rocking since the cradle barfight, my jaw tight, my chin is stable my kenel cable wont be stripped by any label we gots to sticks together like chinks at the dinner table dope slingers, the throat stranglers shows, hoes hang out the rows like boat anchors coat hangers, im in the arms, launching on nonamers i been battling scarecrows, this shits been a nobrainer he hoping bail come through the jail feel like shampoo, that was the cell son blew the brick get frail, piff go stale its like a nigga hustling always seem to tip with the scale i got scripts in the mail, paint the slum block vivid where that young pac kick it theres always some cop frisking heavy metal banging and we dont let the punks rock and a nigga with the jumpshot clicking always the gunshot victim  "
      ]
     },
     "execution_count": 18,
     "metadata": {},
     "output_type": "execute_result"
    }
   ],
   "source": [
    "output_file_filtered.head()"
   ]
  }
 ],
 "metadata": {
  "kaggle": {
   "accelerator": "nvidiaTeslaT4",
   "dataSources": [
    {
     "sourceId": 190184051,
     "sourceType": "kernelVersion"
    },
    {
     "sourceId": 191195122,
     "sourceType": "kernelVersion"
    }
   ],
   "isGpuEnabled": true,
   "isInternetEnabled": true,
   "language": "python",
   "sourceType": "notebook"
  },
  "kernelspec": {
   "display_name": "Python 3",
   "language": "python",
   "name": "python3"
  },
  "language_info": {
   "codemirror_mode": {
    "name": "ipython",
    "version": 3
   },
   "file_extension": ".py",
   "mimetype": "text/x-python",
   "name": "python",
   "nbconvert_exporter": "python",
   "pygments_lexer": "ipython3",
   "version": "3.10.13"
  },
  "papermill": {
   "default_parameters": {},
   "duration": 378.393871,
   "end_time": "2024-08-06T21:35:26.326826",
   "environment_variables": {},
   "exception": null,
   "input_path": "__notebook__.ipynb",
   "output_path": "__notebook__.ipynb",
   "parameters": {},
   "start_time": "2024-08-06T21:29:07.932955",
   "version": "2.5.0"
  }
 },
 "nbformat": 4,
 "nbformat_minor": 5
}
